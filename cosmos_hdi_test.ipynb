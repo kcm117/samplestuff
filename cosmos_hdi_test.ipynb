{
 "cells": [
  {
   "cell_type": "markdown",
   "metadata": {},
   "source": [
    "# Configuration"
   ]
  },
  {
   "cell_type": "markdown",
   "metadata": {},
   "source": [
    "- Download the latest .jar from https://search.maven.org/#search%7Cga%7C1%7Cazure-cosmosdb\n",
    "- Copy the .jar files to a directory in your HDInsight storage layer (blob or ADLS)\n",
    "- Installed pydocumentdb library on all nodes using a script action:\n",
    "    \n",
    "    sudo /usr/bin/anaconda/envs/py35/bin/pip install pyDocumentDB\n",
    "    \n",
    "    sudo /usr/bin/anaconda/bin/pip install pyDocumentDB"
   ]
  },
  {
   "cell_type": "markdown",
   "metadata": {},
   "source": [
    "Note that there are two python environments"
   ]
  },
  {
   "cell_type": "code",
   "execution_count": 1,
   "metadata": {
    "collapsed": false
   },
   "outputs": [
    {
     "name": "stdout",
     "output_type": "stream",
     "text": [
      "# conda environments:\n",
      "#\n",
      "base                  *  /usr/bin/anaconda\n",
      "py35                     /usr/bin/anaconda/envs/py35\n",
      "\n"
     ]
    }
   ],
   "source": [
    "%%bash\n",
    "conda env list\n",
    "# /usr/bin/anaconda/envs/py35/bin/conda install -y pyDocumentDB\n",
    "# /usr/bin/anaconda/envs/py35/bin/pip install pyDocumentDB"
   ]
  },
  {
   "cell_type": "code",
   "execution_count": 2,
   "metadata": {
    "collapsed": false
   },
   "outputs": [
    {
     "name": "stdout",
     "output_type": "stream",
     "text": [
      "# packages in environment at /usr/bin/anaconda/envs/py35:\n",
      "#\n",
      "# Name                    Version                   Build  Channel\n",
      "_license                  1.1                      py35_1  \n",
      "_nb_ext_conf              0.3.0                    py35_0  \n",
      "alabaster                 0.7.9                    py35_0  \n",
      "anaconda                  4.2.0               np111py35_0  \n",
      "anaconda-clean            1.0.0                    py35_0  \n",
      "anaconda-client           1.5.1                    py35_0  \n",
      "anaconda-navigator        1.3.1                    py35_0  \n",
      "argcomplete               1.0.0                    py35_1  \n",
      "astroid                   1.4.7                    py35_0  \n",
      "astropy                   1.2.1               np111py35_0  \n",
      "babel                     2.3.4                    py35_0  \n",
      "backports                 1.0                      py35_0  \n",
      "beautifulsoup4            4.5.1                    py35_0  \n",
      "bitarray                  0.8.1                    py35_0  \n",
      "blaze                     0.10.1                   py35_0  \n",
      "bokeh                     0.12.2                   py35_0  \n",
      "boto                      2.42.0                   py35_0  \n",
      "bottleneck                1.1.0               np111py35_0  \n",
      "cairo                     1.12.18                       6  \n",
      "cffi                      1.7.0                    py35_0  \n",
      "chest                     0.2.3                    py35_0  \n",
      "click                     6.6                      py35_0  \n",
      "cloudpickle               0.2.1                    py35_0  \n",
      "clyent                    1.2.2                    py35_0  \n",
      "colorama                  0.3.7                    py35_0  \n",
      "configobj                 5.0.6                    py35_0  \n",
      "contextlib2               0.5.3                    py35_0  \n",
      "cryptography              1.5                      py35_0  \n",
      "curl                      7.49.0                        1  \n",
      "cycler                    0.10.0                   py35_0  \n",
      "cython                    0.24.1                   py35_0  \n",
      "cytoolz                   0.8.0                    py35_0  \n",
      "dask                      0.11.0                   py35_0  \n",
      "datashape                 0.5.2                    py35_0  \n",
      "dbus                      1.10.10                       0  \n",
      "decorator                 4.0.10                   py35_0  \n",
      "dill                      0.2.5                    py35_0  \n",
      "docutils                  0.12                     py35_2  \n",
      "dynd-python               0.7.2                    py35_0  \n",
      "entrypoints               0.2.2                    py35_0  \n",
      "et_xmlfile                1.0.1                    py35_0  \n",
      "expat                     2.1.0                         0  \n",
      "fastcache                 1.0.2                    py35_1  \n",
      "filelock                  2.0.6                    py35_0  \n",
      "flask                     0.11.1                   py35_0  \n",
      "flask-cors                2.1.2                    py35_0  \n",
      "fontconfig                2.11.1                        6  \n",
      "freetype                  2.5.5                         1  \n",
      "get_terminal_size         1.0.0                    py35_0  \n",
      "gevent                    1.1.2                    py35_0  \n",
      "glib                      2.43.0                        1  \n",
      "greenlet                  0.4.10                   py35_0  \n",
      "gst-plugins-base          1.8.0                         0  \n",
      "gstreamer                 1.8.0                         0  \n",
      "h5py                      2.6.0               np111py35_2  \n",
      "harfbuzz                  0.9.39                        1  \n",
      "hdf5                      1.8.17                        1  \n",
      "heapdict                  1.0.0                    py35_1  \n",
      "icu                       54.1                          0  \n",
      "idna                      2.1                      py35_0  \n",
      "imagesize                 0.7.1                    py35_0  \n",
      "ipykernel                 4.5.0                    py35_0  \n",
      "ipython                   5.1.0                    py35_0  \n",
      "ipython_genutils          0.1.0                    py35_0  \n",
      "ipywidgets                5.2.2                    py35_0  \n",
      "itsdangerous              0.24                     py35_0  \n",
      "jbig                      2.1                           0  \n",
      "jdcal                     1.2                      py35_1  \n",
      "jedi                      0.9.0                    py35_1  \n",
      "jinja2                    2.8                      py35_1  \n",
      "jpeg                      8d                            2  \n",
      "jsonschema                2.5.1                    py35_0  \n",
      "jupyter                   1.0.0                    py35_3  \n",
      "jupyter_client            4.4.0                    py35_0  \n",
      "jupyter_console           5.0.0                    py35_0  \n",
      "jupyter_core              4.2.0                    py35_0  \n",
      "lazy-object-proxy         1.2.1                    py35_0  \n",
      "libdynd                   0.7.2                         0  \n",
      "libffi                    3.2.1                         0  \n",
      "libgcc                    4.8.5                         2  \n",
      "libgfortran               3.0.0                         1  \n",
      "libpng                    1.6.22                        0  \n",
      "libsodium                 1.0.10                        0  \n",
      "libtiff                   4.0.6                         2  \n",
      "libxcb                    1.12                          0  \n",
      "libxml2                   2.9.2                         0  \n",
      "libxslt                   1.1.28                        0  \n",
      "llvmlite                  0.13.0                   py35_0  \n",
      "locket                    0.2.0                    py35_1  \n",
      "lxml                      3.6.4                    py35_0  \n",
      "markupsafe                0.23                     py35_2  \n",
      "matplotlib                1.5.3               np111py35_0  \n",
      "mistune                   0.7.3                    py35_0  \n",
      "mkl                       11.3.3                        0  \n",
      "mkl-service               1.1.2                    py35_2  \n",
      "mpmath                    0.19                     py35_1  \n",
      "multipledispatch          0.4.8                    py35_0  \n",
      "nb_anacondacloud          1.2.0                    py35_0  \n",
      "nb_conda                  2.0.0                    py35_0  \n",
      "nb_conda_kernels          2.0.0                    py35_0  \n",
      "nbconvert                 4.2.0                    py35_0  \n",
      "nbformat                  4.1.0                    py35_0  \n",
      "nbpresent                 3.0.2                    py35_0  \n",
      "networkx                  1.11                     py35_0  \n",
      "nltk                      3.2.1                    py35_0  \n",
      "nose                      1.3.7                    py35_1  \n",
      "notebook                  4.2.3                    py35_0  \n",
      "numba                     0.28.1              np111py35_0  \n",
      "numexpr                   2.6.1               np111py35_0  \n",
      "numpy                     1.11.1                   py35_0  \n",
      "odo                       0.5.0                    py35_1  \n",
      "openpyxl                  2.3.2                    py35_0  \n",
      "openssl                   1.0.2j                        0  \n",
      "pandas                    0.18.1              np111py35_0  \n",
      "partd                     0.3.6                    py35_0  \n",
      "patchelf                  0.9                           0  \n",
      "path.py                   8.2.1                    py35_0  \n",
      "pathlib2                  2.1.0                    py35_0  \n",
      "patsy                     0.4.1                    py35_0  \n",
      "pep8                      1.7.0                    py35_0  \n",
      "pexpect                   4.0.1                    py35_0  \n",
      "pickleshare               0.7.4                    py35_0  \n",
      "pillow                    3.3.1                    py35_0  \n",
      "pip                       8.1.2                    py35_0  \n",
      "pixman                    0.32.6                        0  \n",
      "pkginfo                   1.3.2                    py35_0  \n",
      "ply                       3.9                      py35_0  \n",
      "prompt_toolkit            1.0.3                    py35_0  \n",
      "psutil                    4.3.1                    py35_0  \n",
      "ptyprocess                0.5.1                    py35_0  \n",
      "py                        1.4.31                   py35_0  \n",
      "pyasn1                    0.1.9                    py35_0  \n",
      "pycosat                   0.6.1                    py35_1  \n",
      "pycparser                 2.14                     py35_1  \n",
      "pycrypto                  2.6.1                    py35_4  \n",
      "pycurl                    7.43.0                   py35_0  \n",
      "pydocumentdb              2.3.1                     <pip>\n",
      "pyflakes                  1.3.0                    py35_0  \n",
      "pygments                  2.1.3                    py35_0  \n",
      "pylint                    1.5.4                    py35_1  \n",
      "pyopenssl                 16.0.0                   py35_0  \n",
      "pyparsing                 2.1.4                    py35_0  \n",
      "pyqt                      5.6.0                    py35_0  \n",
      "pytables                  3.2.3.1             np111py35_0  \n",
      "pytest                    2.9.2                    py35_0  \n",
      "python                    3.5.2                         0  \n",
      "python-dateutil           2.5.3                    py35_0  \n",
      "pytz                      2016.6.1                 py35_0  \n",
      "pyyaml                    3.12                     py35_0  \n",
      "pyzmq                     15.4.0                   py35_0  \n",
      "qt                        5.6.0                         0  \n",
      "qtawesome                 0.3.3                    py35_0  \n",
      "qtconsole                 4.2.1                    py35_1  \n",
      "qtpy                      1.1.2                    py35_0  \n",
      "readline                  6.2                           2  \n",
      "redis                     3.2.0                         0  \n",
      "redis-py                  2.10.5                   py35_0  \n",
      "requests                  2.11.1                   py35_0  \n",
      "rope                      0.9.4                    py35_1  \n",
      "scikit-image              0.12.3              np111py35_1  \n",
      "scikit-learn              0.17.1              np111py35_2  \n",
      "scipy                     0.18.1              np111py35_0  \n",
      "setuptools                27.2.0                   py35_0  \n",
      "simplegeneric             0.8.1                    py35_1  \n",
      "singledispatch            3.4.0.3                  py35_0  \n",
      "sip                       4.18                     py35_0  \n",
      "six                       1.10.0                   py35_0  \n",
      "snowballstemmer           1.2.1                    py35_0  \n",
      "sockjs-tornado            1.0.3                    py35_0  \n",
      "sphinx                    1.4.6                    py35_0  \n",
      "spyder                    3.0.0                    py35_0  \n",
      "sqlalchemy                1.0.13                   py35_0  \n",
      "sqlite                    3.13.0                        0  \n",
      "statsmodels               0.6.1               np111py35_1  \n",
      "sympy                     1.0                      py35_0  \n",
      "terminado                 0.6                      py35_0  \n",
      "tk                        8.5.18                        0  \n",
      "toolz                     0.8.0                    py35_0  \n",
      "tornado                   4.4.1                    py35_0  \n",
      "traitlets                 4.3.0                    py35_0  \n",
      "unicodecsv                0.14.1                   py35_0  \n",
      "wcwidth                   0.1.7                    py35_0  \n",
      "werkzeug                  0.11.11                  py35_0  \n",
      "wheel                     0.29.0                   py35_0  \n",
      "widgetsnbextension        1.2.6                    py35_0  \n",
      "wrapt                     1.10.6                   py35_0  \n",
      "xlrd                      1.0.0                    py35_0  \n",
      "xlsxwriter                0.9.3                    py35_0  \n",
      "xlwt                      1.1.2                    py35_0  \n",
      "xz                        5.2.2                         0  \n",
      "yaml                      0.1.6                         0  \n",
      "zeromq                    4.1.4                         0  \n",
      "zlib                      1.2.8                         3  \n"
     ]
    }
   ],
   "source": [
    "%%bash\n",
    "source activate py35\n",
    "conda list"
   ]
  },
  {
   "cell_type": "code",
   "execution_count": 3,
   "metadata": {
    "collapsed": false
   },
   "outputs": [
    {
     "name": "stdout",
     "output_type": "stream",
     "text": [
      "Starting Spark application\n"
     ]
    },
    {
     "data": {
      "text/html": [
       "<table>\n",
       "<tr><th>ID</th><th>YARN Application ID</th><th>Kind</th><th>State</th><th>Spark UI</th><th>Driver log</th><th>Current session?</th></tr><tr><td>8</td><td>application_1523308113254_0012</td><td>pyspark3</td><td>idle</td><td><a target=\"_blank\" href=\"http://hn1-kmspar.jnw1htztyekepc1umluj1sacfe.cx.internal.cloudapp.net:8088/proxy/application_1523308113254_0012/\">Link</a></td><td><a target=\"_blank\" href=\"http://wn2-kmspar.jnw1htztyekepc1umluj1sacfe.cx.internal.cloudapp.net:30060/node/containerlogs/container_1523308113254_0012_01_000001/livy\">Link</a></td><td>✔</td></tr></table>"
      ],
      "text/plain": [
       "<IPython.core.display.HTML object>"
      ]
     },
     "metadata": {},
     "output_type": "display_data"
    },
    {
     "name": "stdout",
     "output_type": "stream",
     "text": [
      "SparkSession available as 'spark'.\n",
      "3.5.2 |Anaconda 4.2.0 (64-bit)| (default, Jul  2 2016, 17:53:06) \n",
      "[GCC 4.4.7 20120313 (Red Hat 4.4.7-1)]"
     ]
    }
   ],
   "source": [
    "import sys\n",
    "print(sys.version)"
   ]
  },
  {
   "cell_type": "markdown",
   "metadata": {
    "collapsed": true
   },
   "source": [
    "I used data from https://github.com/jbrooksuk/JSON-Airports/blob/master/airports.json for this example"
   ]
  },
  {
   "cell_type": "code",
   "execution_count": 4,
   "metadata": {
    "collapsed": false
   },
   "outputs": [],
   "source": [
    "# Import Necessary Libraries\n",
    "import pydocumentdb\n",
    "from pydocumentdb import document_client\n",
    "from pydocumentdb import documents\n",
    "import datetime"
   ]
  },
  {
   "cell_type": "code",
   "execution_count": 5,
   "metadata": {
    "collapsed": true
   },
   "outputs": [],
   "source": [
    "# Configuring the connection policy (allowing for endpoint discovery)\n",
    "connectionPolicy = documents.ConnectionPolicy()\n",
    "connectionPolicy.EnableEndpointDiscovery\n",
    "connectionPolicy.PreferredLocations = [\"East US 2\"]\n",
    "\n",
    "\n",
    "# Set keys to connect to Azure Cosmos DB\n",
    "masterKey = '<ENTER YOUR COSMOSDB KEY HERE>'\n",
    "host = 'https://kmsparkcosmos.documents.azure.com:443/'\n",
    "client = document_client.DocumentClient(host, {'masterKey': masterKey}, connectionPolicy)"
   ]
  },
  {
   "cell_type": "markdown",
   "metadata": {},
   "source": [
    "# Reading"
   ]
  },
  {
   "cell_type": "markdown",
   "metadata": {},
   "source": [
    "From https://docs.microsoft.com/en-us/azure/cosmos-db/spark-connector#pydocumentdb-implementation"
   ]
  },
  {
   "cell_type": "code",
   "execution_count": 6,
   "metadata": {
    "collapsed": false
   },
   "outputs": [],
   "source": [
    "# Configure Database and Collections\n",
    "databaseId = 'airports'\n",
    "collectionId = 'codes'\n",
    "\n",
    "# Configurations the Azure Cosmos DB client will use to connect to the database and collection\n",
    "dbLink = 'dbs/' + databaseId\n",
    "collLink = dbLink + '/colls/' + collectionId\n",
    "\n",
    "# Set query parameter\n",
    "querystr = \"SELECT * FROM c WHERE c.continent='NA'\"\n",
    "\n",
    "# Query documents\n",
    "query = client.QueryDocuments(collLink, querystr, options=None, partition_key=None)\n",
    "\n",
    "# Query for partitioned collections\n",
    "# query = client.QueryDocuments(collLink, query, options= { 'enableCrossPartitionQuery': True }, partition_key=None)\n",
    "\n",
    "# Push into list `elements`\n",
    "elements = list(query)"
   ]
  },
  {
   "cell_type": "code",
   "execution_count": 7,
   "metadata": {
    "collapsed": false
   },
   "outputs": [
    {
     "name": "stdout",
     "output_type": "stream",
     "text": [
      "{'name': 'False Island Seaplane Base', 'iata': 'FAK', 'continent': 'NA', '_attachments': 'attachments/', '_self': 'dbs/Dbs4AA==/colls/Dbs4AJfRKwA=/docs/Dbs4AJfRKwADAAAAAAAAAA==/', '_etag': '\"090047f6-0000-0000-0000-5acbf6260000\"', 'status': 1, 'size': None, 'iso': 'US', 'id': '096dc7f9-0a9e-45bf-b7fb-d0fd483259d8', '_ts': 1523316262, '_rid': 'Dbs4AJfRKwADAAAAAAAAAA==', 'type': 'seaplanes'}"
     ]
    }
   ],
   "source": [
    "elements[0]"
   ]
  },
  {
   "cell_type": "code",
   "execution_count": 8,
   "metadata": {
    "collapsed": false
   },
   "outputs": [
    {
     "name": "stdout",
     "output_type": "stream",
     "text": [
      "/usr/hdp/current/spark2-client/python/pyspark/sql/session.py:336: UserWarning: inferring schema from dict is deprecated,please use pyspark.sql.Row instead\n",
      "  warnings.warn(\"inferring schema from dict is deprecated,\""
     ]
    }
   ],
   "source": [
    "# Create `df` Spark DataFrame from `elements` Python list\n",
    "df = spark.createDataFrame(elements)"
   ]
  },
  {
   "cell_type": "code",
   "execution_count": 9,
   "metadata": {
    "collapsed": false
   },
   "outputs": [
    {
     "name": "stdout",
     "output_type": "stream",
     "text": [
      "+------------+--------------------+--------------------+--------------------+----------+---------+----+--------------------+---+--------------------+------+------+---------+----------+---------+\n",
      "|_attachments|               _etag|                _rid|               _self|       _ts|continent|iata|                  id|iso|                name|  size|status|     type|       lon|      lat|\n",
      "+------------+--------------------+--------------------+--------------------+----------+---------+----+--------------------+---+--------------------+------+------+---------+----------+---------+\n",
      "|attachments/|\"090047f6-0000-00...|Dbs4AJfRKwADAAAAA...|dbs/Dbs4AA==/coll...|1523316262|       NA| FAK|096dc7f9-0a9e-45b...| US|False Island Seap...|  null|     1|seaplanes|      null|     null|\n",
      "|attachments/|\"090049f6-0000-00...|Dbs4AJfRKwAFAAAAA...|dbs/Dbs4AA==/coll...|1523316262|       NA| BWS|852c784f-382d-4fc...| US|Blaine Municipal ...|  null|     0|   closed|      null|     null|\n",
      "|attachments/|\"09004af6-0000-00...|Dbs4AJfRKwAGAAAAA...|dbs/Dbs4AA==/coll...|1523316262|       NA| FOB|00950430-c6f3-42d...| US|  Fort Bragg Airport| small|     1|  airport|-123.79444|39.474445|\n",
      "|attachments/|\"09004bf6-0000-00...|Dbs4AJfRKwAHAAAAA...|dbs/Dbs4AA==/coll...|1523316262|       NA| WKK|c5dcb703-4061-443...| US|Aleknagik / New A...|medium|     1|  airport|-158.61111| 59.27778|\n",
      "|attachments/|\"09004cf6-0000-00...|Dbs4AJfRKwAIAAAAA...|dbs/Dbs4AA==/coll...|1523316262|       NA| FIV|f5e23fef-7581-4be...| US|Five Finger CG He...|  null|     1| heliport|      null|     null|\n",
      "|attachments/|\"09004ef6-0000-00...|Dbs4AJfRKwAKAAAAA...|dbs/Dbs4AA==/coll...|1523316262|       NA| TSS|8fec1d75-5e41-4bb...| US|East 34th Street ...|  null|     1| heliport|      null|     null|\n",
      "|attachments/|\"09004ff6-0000-00...|Dbs4AJfRKwALAAAAA...|dbs/Dbs4AA==/coll...|1523316262|       NA| TJP|762f3333-ab56-4dc...| PR|Areopuerto Intern...| large|     1|  airport|-66.563545|18.010702|\n",
      "|attachments/|\"09006ff6-0000-00...|Dbs4AJfRKwArAAAAA...|dbs/Dbs4AA==/coll...|1523316263|       NA| AHT|3c9ebe2c-33f0-418...| US|Amchitka Army Air...|  null|     0|   closed|      null|     null|\n",
      "|attachments/|\"090074f6-0000-00...|Dbs4AJfRKwAwAAAAA...|dbs/Dbs4AA==/coll...|1523316263|       NA| AOS|d08a8f22-449c-4d2...| US|Amook Bay Seaplan...|  null|     1|seaplanes|      null|     null|\n",
      "|attachments/|\"090076f6-0000-00...|Dbs4AJfRKwAyAAAAA...|dbs/Dbs4AA==/coll...|1523316263|       NA| ALZ|f7e35bce-9bcf-49c...| US|Alitak Seaplane Base|  null|     1|seaplanes|      null|     null|\n",
      "+------------+--------------------+--------------------+--------------------+----------+---------+----+--------------------+---+--------------------+------+------+---------+----------+---------+\n",
      "only showing top 10 rows"
     ]
    }
   ],
   "source": [
    "df.show(10)"
   ]
  },
  {
   "cell_type": "markdown",
   "metadata": {
    "collapsed": true
   },
   "source": [
    "# Writing"
   ]
  },
  {
   "cell_type": "markdown",
   "metadata": {},
   "source": [
    "Use the documentation for the \"client\" object at http://azure.github.io/azure-documentdb-python/api/pydocumentdb.document_client.html"
   ]
  },
  {
   "cell_type": "code",
   "execution_count": 10,
   "metadata": {
    "collapsed": true
   },
   "outputs": [],
   "source": [
    "kc_airport = {'name': 'KC Airport',\n",
    "  'iata': 'KCM22',\n",
    "  'continent': 'NA',\n",
    "  'status': 1,\n",
    "  'size': None,\n",
    "  'iso': 'US',\n",
    "  'type': 'seaplanes'}"
   ]
  },
  {
   "cell_type": "code",
   "execution_count": 11,
   "metadata": {
    "collapsed": false
   },
   "outputs": [
    {
     "name": "stdout",
     "output_type": "stream",
     "text": [
      "{'name': 'KC Airport', 'iata': 'KCM22', 'continent': 'NA', '_attachments': 'attachments/', 'type': 'seaplanes', '_etag': '\"0a00f454-0000-0000-0000-5acc0d510000\"', 'status': 1, 'size': None, 'iso': 'US', 'id': 'b1a92fce-ed95-4679-979e-87aeba798845', '_ts': 1523322193, '_rid': 'Dbs4AJfRKwBJGgAAAAAAAA==', '_self': 'dbs/Dbs4AA==/colls/Dbs4AJfRKwA=/docs/Dbs4AJfRKwBJGgAAAAAAAA==/'}"
     ]
    }
   ],
   "source": [
    "# Write to CosmosDB using the UpsertDocument method on the client object\n",
    "client.UpsertDocument(collLink,kc_airport)"
   ]
  },
  {
   "cell_type": "code",
   "execution_count": 12,
   "metadata": {
    "collapsed": true
   },
   "outputs": [],
   "source": [
    "# Verify it was written, by reading back\n",
    "\n",
    "# Set query parameter\n",
    "querystr2 = \"SELECT * FROM c WHERE c.iata='KCM22'\"\n",
    "\n",
    "# Query documents\n",
    "query2 = client.QueryDocuments(collLink, querystr2, options=None, partition_key=None)\n",
    "\n",
    "# Push into list `elements`\n",
    "elements2 = list(query2)"
   ]
  },
  {
   "cell_type": "code",
   "execution_count": 13,
   "metadata": {
    "collapsed": false
   },
   "outputs": [
    {
     "name": "stdout",
     "output_type": "stream",
     "text": [
      "[{'name': 'KC Airport', 'iata': 'KCM22', 'continent': 'NA', '_attachments': 'attachments/', 'type': 'seaplanes', '_etag': '\"0a00f454-0000-0000-0000-5acc0d510000\"', 'status': 1, 'size': None, 'iso': 'US', 'id': 'b1a92fce-ed95-4679-979e-87aeba798845', '_ts': 1523322193, '_rid': 'Dbs4AJfRKwBJGgAAAAAAAA==', '_self': 'dbs/Dbs4AA==/colls/Dbs4AJfRKwA=/docs/Dbs4AJfRKwBJGgAAAAAAAA==/'}]"
     ]
    }
   ],
   "source": [
    "elements2"
   ]
  }
 ],
 "metadata": {
  "kernelspec": {
   "display_name": "PySpark3",
   "language": "",
   "name": "pyspark3kernel"
  },
  "language_info": {
   "codemirror_mode": {
    "name": "python",
    "version": 3
   },
   "mimetype": "text/x-python",
   "name": "pyspark3",
   "pygments_lexer": "python3"
  }
 },
 "nbformat": 4,
 "nbformat_minor": 2
}
